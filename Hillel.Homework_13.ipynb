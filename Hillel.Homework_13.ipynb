{
  "nbformat": 4,
  "nbformat_minor": 0,
  "metadata": {
    "colab": {
      "provenance": [],
      "authorship_tag": "ABX9TyMhXQqJ2Sm9GHJt3PGIpxd7",
      "include_colab_link": true
    },
    "kernelspec": {
      "name": "python3",
      "display_name": "Python 3"
    },
    "language_info": {
      "name": "python"
    }
  },
  "cells": [
    {
      "cell_type": "markdown",
      "metadata": {
        "id": "view-in-github",
        "colab_type": "text"
      },
      "source": [
        "<a href=\"https://colab.research.google.com/github/bohdan-14/Hillel_Homework/blob/master/Untitled3.ipynb\" target=\"_parent\"><img src=\"https://colab.research.google.com/assets/colab-badge.svg\" alt=\"Open In Colab\"/></a>"
      ]
    },
    {
      "cell_type": "code",
      "execution_count": 2,
      "metadata": {
        "colab": {
          "base_uri": "https://localhost:8080/"
        },
        "id": "drqVRgU4bTmc",
        "outputId": "fbe2aeba-fd99-4892-a3f2-6e1709b2baea"
      },
      "outputs": [
        {
          "output_type": "stream",
          "name": "stdout",
          "text": [
            "Досягнуто максимум\n",
            "Досягнуто мiнiмум\n"
          ]
        }
      ],
      "source": [
        "# 13.1\n",
        "\n",
        "class Human:\n",
        "     def __init__(self, gender, age, first_name, last_name):\n",
        "          self.gender = gender\n",
        "          self.age = age\n",
        "          self.first_name = first_name\n",
        "          self.last_name = last_name\n",
        "\n",
        "     def __str__(self):\n",
        "          return f\"Прiзвище: {self.last_name}; iм'я: {self.first_name}; стать: {self.gender}; вiк: {self.age} рокiв\"\n",
        "\n",
        "class Student(Human):\n",
        "     def __init__(self, gender, age, first_name, last_name, record_book):\n",
        "          super().__init__(gender, age, first_name, last_name)\n",
        "          self.record_book = record_book\n",
        "\n",
        "     def __str__(self):\n",
        "          return f\"Прiзвище: {self.last_name}; iм'я: {self.first_name}; стать: {self.gender}; вiк: {self.age} рокiв; курс {self.record_book}\"\n",
        "\n",
        "class Group:\n",
        "     def __init__(self, number):\n",
        "          self.number = number\n",
        "          self.group = set()\n",
        "\n",
        "     def add_student(self, student):\n",
        "          self.group.add(student)\n",
        "\n",
        "     def delete_student(self, last_name):\n",
        "          for student in self.group:\n",
        "               if student.last_name == last_name:\n",
        "                    self.group.remove(student)\n",
        "                    return\n",
        "\n",
        "     def find_student(self, last_name):\n",
        "         for student in self.group:\n",
        "             if student.last_name == last_name:\n",
        "                 return student\n",
        "         return None\n",
        "\n",
        "     def __str__(self):\n",
        "         all_students = ''\n",
        "         for student in self.group:\n",
        "             all_students += str(student) + '\\n'\n",
        "             return f'Number:{self.number}\\\\n {all_students} '\n",
        "st1 = Student('Male', 30, 'Steve', 'Jobs', 'AN142')\n",
        "st2 = Student('Female', 25, 'Liza', 'Taylor', 'AN145')\n",
        "gr = Group('PD1')\n",
        "gr.add_student(st1)\n",
        "gr.add_student(st2)\n",
        "print(gr)\n",
        "assert str(gr.find_student('Jobs')) == str(st1), 'Test1'\n",
        "assert gr.find_student('Jobs2') is None, 'Test2'\n",
        "assert isinstance(gr.find_student('Jobs'), Student) is True, 'Метод поиска должен возвращать экземпляр'\n",
        "gr.delete_student('Taylor')\n",
        "print(gr) # Only one student\n",
        "gr.delete_student('Taylor') # No error!\n",
        "\n",
        "# 13.2\n",
        "\n",
        "class Counter:\n",
        "\n",
        "     def __init__(self, current=1, min_value=0, max_value=10):\n",
        "           self.current = current\n",
        "           self.min_value = min_value\n",
        "           self.max_value = max_value\n",
        "\n",
        "     def set_current(self, start):\n",
        "           self.current = start\n",
        "\n",
        "     def set_max(self, max_max):\n",
        "           self.max_max = max_max\n",
        "\n",
        "     def set_min(self, min_min):\n",
        "           self.min_min = min_min\n",
        "\n",
        "     def step_up(self):\n",
        "           if self.current < self.max_value:\n",
        "                self.current += 1\n",
        "           else:\n",
        "                raise ValueError('Досягнуто максимум')\n",
        "           return self.current\n",
        "\n",
        "     def step_down(self):\n",
        "           if self.current > self.min_min:\n",
        "                self.current -= 1\n",
        "           else:\n",
        "                raise ValueError('Досягнуто мiнiмум')\n",
        "           return self.current\n",
        "\n",
        "     def get_current(self):\n",
        "          return self.current\n",
        "\n",
        "counter = Counter()\n",
        "counter.set_current(7)\n",
        "counter.step_up()\n",
        "counter.step_up()\n",
        "counter.step_up()\n",
        "assert counter.get_current() == 10, 'Test1'\n",
        "try:\n",
        "  counter.step_up() # ValueError\n",
        "except ValueError as e:\n",
        "  print(e) # Достигнут максимум\n",
        "assert counter.get_current() == 10, 'Test2'\n",
        "\n",
        "counter.set_min(7)\n",
        "counter.step_down()\n",
        "counter.step_down()\n",
        "counter.step_down()\n",
        "assert counter.get_current() == 7, 'Test3'\n",
        "try:\n",
        "   counter.step_down() # ValueError\n",
        "except ValueError as e:\n",
        "   print(e) # Достигнут минимум\n",
        "assert counter.get_current() == 7, 'Test4'"
      ]
    }
  ]
}
