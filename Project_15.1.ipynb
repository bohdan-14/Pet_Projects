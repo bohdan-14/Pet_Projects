{
  "nbformat": 4,
  "nbformat_minor": 0,
  "metadata": {
    "colab": {
      "provenance": [],
      "authorship_tag": "ABX9TyPck59m5kk+xZhCxa8Cnkss",
      "include_colab_link": true
    },
    "kernelspec": {
      "name": "python3",
      "display_name": "Python 3"
    },
    "language_info": {
      "name": "python"
    }
  },
  "cells": [
    {
      "cell_type": "markdown",
      "metadata": {
        "id": "view-in-github",
        "colab_type": "text"
      },
      "source": [
        "<a href=\"https://colab.research.google.com/github/bohdan-14/Pet_Projects/blob/master/Project_15.1.ipynb\" target=\"_parent\"><img src=\"https://colab.research.google.com/assets/colab-badge.svg\" alt=\"Open In Colab\"/></a>"
      ]
    },
    {
      "cell_type": "code",
      "execution_count": 1,
      "metadata": {
        "colab": {
          "base_uri": "https://localhost:8080/"
        },
        "id": "drqVRgU4bTmc",
        "outputId": "d4293383-b139-4a9c-d179-01bf77ecff93"
      },
      "outputs": [
        {
          "output_type": "stream",
          "name": "stdout",
          "text": [
            "Перевірка успішна!\n"
          ]
        }
      ],
      "source": [
        "# 15.1\n",
        "class Rectangle:\n",
        "\n",
        "    def __init__(self, width, height):\n",
        "        self.width = width\n",
        "        self.height = height\n",
        "\n",
        "    def get_square(self):\n",
        "        square = self.width * self.height\n",
        "        return square\n",
        "\n",
        "    def __eq__(self, other):\n",
        "        if isinstance(other, Rectangle):\n",
        "          if self.get_square() == other.get_square():\n",
        "            print('Перевірка успішна!')\n",
        "            return True\n",
        "          print('Перевірка неуспішна!')\n",
        "          return False\n",
        "        else:\n",
        "          raise TypeError (f\"Об'єкт {other} Не є екземпляром классу Rectangle\")\n",
        "\n",
        "    def __add__(self, other):\n",
        "        total_square = self.get_square() + other.get_square()\n",
        "        third_height = total_square / self.width\n",
        "        return Rectangle(self.width, third_height)\n",
        "\n",
        "    def __mul__(self, n):\n",
        "          new_square = self.get_square() * n\n",
        "          fourth_height = new_square / self.width\n",
        "          return Rectangle(self.width, fourth_height)\n",
        "\n",
        "    def __str__(self):\n",
        "        return f'Прямокутник шириною {self.width} та висотою {self.height}'\n",
        "\n",
        "r1 = Rectangle(2, 4)\n",
        "r2 = Rectangle(3, 6)\n",
        "assert r1.get_square() == 8, 'Test1'\n",
        "assert r2.get_square() == 18, 'Test2'\n",
        "\n",
        "r3 = r1 + r2\n",
        "assert r3.get_square() == 26, 'Test3'\n",
        "\n",
        "r4 = r1 * 4\n",
        "assert r4.get_square() == 32, 'Test4'\n",
        "\n",
        "assert Rectangle(3, 6) == Rectangle (2, 9), 'Test5'\n",
        "\n"
      ]
    }
  ]
}