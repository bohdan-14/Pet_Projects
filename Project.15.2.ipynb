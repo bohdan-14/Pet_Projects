{
  "nbformat": 4,
  "nbformat_minor": 0,
  "metadata": {
    "colab": {
      "provenance": [],
      "authorship_tag": "ABX9TyOAWYuw7EXC1l0StCtHBrjc",
      "include_colab_link": true
    },
    "kernelspec": {
      "name": "python3",
      "display_name": "Python 3"
    },
    "language_info": {
      "name": "python"
    }
  },
  "cells": [
    {
      "cell_type": "markdown",
      "metadata": {
        "id": "view-in-github",
        "colab_type": "text"
      },
      "source": [
        "<a href=\"https://colab.research.google.com/github/bohdan-14/Pet_Projects/blob/master/Project.15.2.ipynb\" target=\"_parent\"><img src=\"https://colab.research.google.com/assets/colab-badge.svg\" alt=\"Open In Colab\"/></a>"
      ]
    },
    {
      "cell_type": "code",
      "execution_count": null,
      "metadata": {
        "colab": {
          "base_uri": "https://localhost:8080/"
        },
        "id": "drqVRgU4bTmc",
        "outputId": "d4293383-b139-4a9c-d179-01bf77ecff93"
      },
      "outputs": [
        {
          "output_type": "stream",
          "name": "stdout",
          "text": [
            "Перевірка успішна!\n"
          ]
        }
      ],
      "source": [
        "# 15.2\n",
        "from fractions import Fraction\n",
        "\n",
        "class Fraction:\n",
        "    def __init__(self, a, b):\n",
        "        self.a = a\n",
        "        self.b = b\n",
        "        print(f'Создана новая дробь: знаменитель: {self.a} числитель: {self.b}')\n",
        "\n",
        "\n",
        "    def __mul__(self, other):\n",
        "        f_d_a = self.a * other.a\n",
        "        f_d_b = self.b * other.b\n",
        "        print(f'Создан обьект f_d: знаменитель: {f_d_a} числитель: {f_d_b}')\n",
        "        return Fraction(f_d_a, f_d_b)\n",
        "\n",
        "    def __add__(self, other):\n",
        "        f_c_a = self.a * other.b + self.b * other.a\n",
        "        f_c_b = self.b * other.b\n",
        "        print(f'Создан обьект f_c: знаменитель: {f_c_a} числитель: {f_c_b}')\n",
        "        return Fraction(f_c_a, f_c_b)\n",
        "\n",
        "    def __sub__(self, other):\n",
        "        f_e_a = self.a * other.b - self.b * other.a\n",
        "        f_e_b = self.b * other.b\n",
        "        print(f'Создан обьект f_e: знаменитель: {f_e_a} числитель: {f_e_b}')\n",
        "        return Fraction(f_e_a, f_e_b)\n",
        "\n",
        "    def __eq__(self, other):\n",
        "        return self.a * other.b == self.b * other.a\n",
        "\n",
        "    def __gt__(self, other):\n",
        "        return self.a * other.b > self.b * other.a\n",
        "\n",
        "    def __lt__(self, other):\n",
        "        return self.a * other.b < self.b * other.a\n",
        "\n",
        "    def __str__(self):\n",
        "        return f\"Fraction: {self.a}, {self.b}\"\n",
        "\n",
        "f_a = Fraction(2, 3)\n",
        "f_b = Fraction(3, 6)\n",
        "f_c = f_b + f_a\n",
        "assert str(f_c) == 'Fraction: 21, 18'\n",
        "f_d = f_b * f_a\n",
        "assert str(f_d) == 'Fraction: 6, 18'\n",
        "f_e = f_a - f_b\n",
        "assert str(f_e) == 'Fraction: 3, 18'\n",
        "\n",
        "assert f_d < f_c  # True\n",
        "assert f_d > f_e  # True\n",
        "assert f_a != f_b  # True\n",
        "f_1 = Fraction(2, 4)\n",
        "f_2 = Fraction(3, 6)\n",
        "assert f_1 == f_2  # True\n",
        "print('OK')\n",
        "\n"
      ]
    }
  ]
}